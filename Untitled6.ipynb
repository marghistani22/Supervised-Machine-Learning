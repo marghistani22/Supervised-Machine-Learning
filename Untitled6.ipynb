{
  "nbformat": 4,
  "nbformat_minor": 0,
  "metadata": {
    "colab": {
      "provenance": [],
      "authorship_tag": "ABX9TyNnObA/bnqa7BKluA5GIvTu",
      "include_colab_link": true
    },
    "kernelspec": {
      "name": "python3",
      "display_name": "Python 3"
    },
    "language_info": {
      "name": "python"
    }
  },
  "cells": [
    {
      "cell_type": "markdown",
      "metadata": {
        "id": "view-in-github",
        "colab_type": "text"
      },
      "source": [
        "<a href=\"https://colab.research.google.com/github/marghistani22/Supervised-Machine-Learning/blob/main/Untitled6.ipynb\" target=\"_parent\"><img src=\"https://colab.research.google.com/assets/colab-badge.svg\" alt=\"Open In Colab\"/></a>"
      ]
    },
    {
      "cell_type": "code",
      "execution_count": null,
      "metadata": {
        "colab": {
          "base_uri": "https://localhost:8080/"
        },
        "id": "d_wpzlc6fYoM",
        "outputId": "cde47508-2ec0-4cb9-c00f-939afe09e4c9"
      },
      "outputs": [
        {
          "output_type": "stream",
          "name": "stdout",
          "text": [
            "Accuracy score of the training data:  0.7850162866449512\n",
            "Accuracy score of the test data:  0.7597402597402597\n",
            "The person is not diabetic\n"
          ]
        }
      ],
      "source": [
        "import numpy as np\n",
        "import pandas as pd\n",
        "from sklearn.preprocessing import StandardScaler\n",
        "from sklearn.model_selection import train_test_split\n",
        "from sklearn.linear_model import LogisticRegression\n",
        "from sklearn.metrics import accuracy_score\n",
        "\n",
        "# Load the dataset\n",
        "diabetes_dataset = pd.read_csv('/content/diabetes.csv')\n",
        "\n",
        "# Splitting the data into features and labels\n",
        "x = diabetes_dataset.drop(columns='Outcome', axis=1)\n",
        "y = diabetes_dataset['Outcome']\n",
        "\n",
        "# Standardize the data\n",
        "scaler = StandardScaler()\n",
        "scaler.fit(x)\n",
        "standardized_data = scaler.transform(x)\n",
        "\n",
        "x = standardized_data\n",
        "y = diabetes_dataset['Outcome']\n",
        "\n",
        "# Splitting the dataset into training and test sets\n",
        "X_train, X_test, Y_train, Y_test = train_test_split(x, y, test_size=0.2, stratify=y, random_state=2)\n",
        "\n",
        "# Logistic Regression model with more iterations\n",
        "classifier = LogisticRegression(max_iter=1000)\n",
        "\n",
        "# Training the model\n",
        "classifier.fit(X_train, Y_train)\n",
        "\n",
        "# Accuracy score on the training data\n",
        "X_train_prediction = classifier.predict(X_train)\n",
        "training_data_accuracy = accuracy_score(X_train_prediction, Y_train)\n",
        "print('Accuracy score of the training data: ', training_data_accuracy)\n",
        "\n",
        "# Accuracy score on the test data\n",
        "X_test_prediction = classifier.predict(X_test)\n",
        "test_data_accuracy = accuracy_score(X_test_prediction, Y_test)\n",
        "print('Accuracy score of the test data: ', test_data_accuracy)\n",
        "\n",
        "\n",
        "if (X_test_prediction[0] ==0):\n",
        "    print('The person is not diabetic')\n",
        "else:\n",
        "    print('The person is diabetic')\n"
      ]
    }
  ]
}